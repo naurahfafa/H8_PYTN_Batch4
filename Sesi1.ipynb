{
 "cells": [
  {
   "cell_type": "markdown",
   "id": "055edc42",
   "metadata": {},
   "source": [
    "# Data Type\n",
    "\n",
    "4 Tipe data yang paling sering digunakan\n",
    "- Integer\n",
    "- Float\n",
    "- String\n",
    "- Boolean"
   ]
  },
  {
   "cell_type": "code",
   "execution_count": 5,
   "id": "171f726c",
   "metadata": {},
   "outputs": [
    {
     "name": "stdout",
     "output_type": "stream",
     "text": [
      "10000\n",
      "<class 'int'>\n"
     ]
    }
   ],
   "source": [
    "# Integer\n",
    "print(10000)\n",
    "print(type(39))"
   ]
  },
  {
   "cell_type": "code",
   "execution_count": 10,
   "id": "fdc7f66b",
   "metadata": {},
   "outputs": [
    {
     "name": "stdout",
     "output_type": "stream",
     "text": [
      "3.5\n",
      "0.00042\n",
      "<class 'float'>\n"
     ]
    }
   ],
   "source": [
    "# Float\n",
    "print(3.5)\n",
    "print(4.2e-4)\n",
    "print(type(2.8))"
   ]
  },
  {
   "cell_type": "code",
   "execution_count": 13,
   "id": "f39c9907",
   "metadata": {},
   "outputs": [
    {
     "name": "stdout",
     "output_type": "stream",
     "text": [
      "Nama saya adalah fafa\n",
      "<class 'str'>\n"
     ]
    }
   ],
   "source": [
    "# String\n",
    "print(\"Nama saya adalah fafa\")\n",
    "print(type('Nama saya adalah fafa'))"
   ]
  },
  {
   "cell_type": "code",
   "execution_count": 14,
   "id": "0f8e848e",
   "metadata": {},
   "outputs": [
    {
     "name": "stdout",
     "output_type": "stream",
     "text": [
      "True\n",
      "False\n",
      "<class 'bool'>\n"
     ]
    }
   ],
   "source": [
    "# Boolean\n",
    "print(True)\n",
    "print(False)\n",
    "print(type(True))"
   ]
  },
  {
   "cell_type": "markdown",
   "id": "6b5604fe",
   "metadata": {},
   "source": [
    "# Variable Assignment\n",
    "\n",
    "Nama variabel tidak boleh dimulai dengan angka"
   ]
  },
  {
   "cell_type": "code",
   "execution_count": 16,
   "id": "2295524c",
   "metadata": {},
   "outputs": [
    {
     "name": "stdout",
     "output_type": "stream",
     "text": [
      "300\n",
      "<class 'int'>\n",
      "<class 'int'>\n"
     ]
    }
   ],
   "source": [
    "angka = 300\n",
    "print(angka)\n",
    "print(type(angka))\n",
    "print(type(300))"
   ]
  },
  {
   "cell_type": "code",
   "execution_count": 17,
   "id": "7a2a5472",
   "metadata": {},
   "outputs": [
    {
     "name": "stdout",
     "output_type": "stream",
     "text": [
      "haha\n",
      "<class 'str'>\n"
     ]
    }
   ],
   "source": [
    "teks = 'haha'\n",
    "print(teks)\n",
    "print(type(teks))"
   ]
  },
  {
   "cell_type": "code",
   "execution_count": 18,
   "id": "5baac789",
   "metadata": {},
   "outputs": [
    {
     "name": "stdout",
     "output_type": "stream",
     "text": [
      "300 300 300\n",
      "<class 'int'>\n"
     ]
    }
   ],
   "source": [
    "a = b = c = 300\n",
    "print(a,b,c)\n",
    "print(type(b))"
   ]
  },
  {
   "cell_type": "code",
   "execution_count": 19,
   "id": "e568ea2a",
   "metadata": {},
   "outputs": [
    {
     "name": "stdout",
     "output_type": "stream",
     "text": [
      "Bekasi Jakarta\n"
     ]
    }
   ],
   "source": [
    "rumah = 'Bekasi'\n",
    "Rumah = 'Jakarta'\n",
    "print(rumah, Rumah)"
   ]
  },
  {
   "cell_type": "markdown",
   "id": "d236b4dc",
   "metadata": {},
   "source": [
    "# Arithmetic Operators"
   ]
  },
  {
   "cell_type": "code",
   "execution_count": 20,
   "id": "70de3fa7",
   "metadata": {},
   "outputs": [
    {
     "name": "stdout",
     "output_type": "stream",
     "text": [
      "30\n"
     ]
    }
   ],
   "source": [
    "# Penjumlahan (+)\n",
    "a = 10\n",
    "b = 20\n",
    "print(a+b)"
   ]
  },
  {
   "cell_type": "code",
   "execution_count": 21,
   "id": "e3b9abba",
   "metadata": {},
   "outputs": [
    {
     "name": "stdout",
     "output_type": "stream",
     "text": [
      "-10\n"
     ]
    }
   ],
   "source": [
    "# Pengurangan (-)\n",
    "print(a-b)"
   ]
  },
  {
   "cell_type": "code",
   "execution_count": 22,
   "id": "5d8b7058",
   "metadata": {},
   "outputs": [
    {
     "name": "stdout",
     "output_type": "stream",
     "text": [
      "200\n"
     ]
    }
   ],
   "source": [
    "# Perkalian (*)\n",
    "print(a*b)"
   ]
  },
  {
   "cell_type": "code",
   "execution_count": 24,
   "id": "f297a209",
   "metadata": {},
   "outputs": [
    {
     "name": "stdout",
     "output_type": "stream",
     "text": [
      "0.5\n",
      "0\n",
      "1.5\n",
      "1\n",
      "<class 'float'>\n",
      "<class 'int'>\n"
     ]
    }
   ],
   "source": [
    "# Pembagian (/)\n",
    "print(a/b) # menghasilkan bilangan pecahan\n",
    "print(a//b) # menghasilkan bilangan bulat\n",
    "print(3/2)\n",
    "print(3//2)\n",
    "print(type(3/2))\n",
    "print(type(3//2))"
   ]
  },
  {
   "cell_type": "code",
   "execution_count": 26,
   "id": "ec34edb4",
   "metadata": {},
   "outputs": [
    {
     "name": "stdout",
     "output_type": "stream",
     "text": [
      "3.5\n",
      "1\n",
      "1\n",
      "0\n"
     ]
    }
   ],
   "source": [
    "# Modulo (%)\n",
    "print(7/2)\n",
    "print(7%2)\n",
    "print(11%2)\n",
    "print(10%2)"
   ]
  },
  {
   "cell_type": "code",
   "execution_count": 27,
   "id": "7d30a879",
   "metadata": {},
   "outputs": [
    {
     "name": "stdout",
     "output_type": "stream",
     "text": [
      "49\n",
      "4\n"
     ]
    }
   ],
   "source": [
    "# Pangkat (**)\n",
    "print(7**2)\n",
    "print(2**2)"
   ]
  },
  {
   "cell_type": "markdown",
   "id": "98e83c85",
   "metadata": {},
   "source": [
    "## Quiz 1\n",
    "ubah 30 derajat celcius ke fahrenheit"
   ]
  },
  {
   "cell_type": "code",
   "execution_count": 29,
   "id": "00a8f636",
   "metadata": {},
   "outputs": [
    {
     "name": "stdout",
     "output_type": "stream",
     "text": [
      "86.0\n"
     ]
    }
   ],
   "source": [
    "c = 30\n",
    "f = (9/5)*30 + 32\n",
    "print(f)"
   ]
  },
  {
   "cell_type": "markdown",
   "id": "b74638b5",
   "metadata": {},
   "source": [
    "# Comparison Operators"
   ]
  },
  {
   "cell_type": "code",
   "execution_count": 32,
   "id": "5c7c485c",
   "metadata": {},
   "outputs": [
    {
     "name": "stdout",
     "output_type": "stream",
     "text": [
      "False\n",
      "True\n",
      "True\n"
     ]
    }
   ],
   "source": [
    "# Persamaan (==)\n",
    "c = 10\n",
    "d = 30\n",
    "e = 10\n",
    "f = 20\n",
    "print(c==d)\n",
    "print(c==e)\n",
    "\n",
    "rumah1 = 'bekasi'\n",
    "rumah2 = 'jakarta'\n",
    "rumah3 = 'jakarta'\n",
    "print(rumah2==rumah3)"
   ]
  },
  {
   "cell_type": "code",
   "execution_count": 33,
   "id": "3a2001f1",
   "metadata": {},
   "outputs": [
    {
     "name": "stdout",
     "output_type": "stream",
     "text": [
      "False\n",
      "True\n",
      "False\n",
      "True\n",
      "True\n",
      "True\n"
     ]
    }
   ],
   "source": [
    "# Lebih dari atau kurang dari\n",
    "print(c>d)\n",
    "print(c<d)\n",
    "print(c>=d)\n",
    "print(c<=d)\n",
    "print(c>=e)\n",
    "print(c<=e)"
   ]
  },
  {
   "cell_type": "code",
   "execution_count": 34,
   "id": "8d0c7443",
   "metadata": {},
   "outputs": [
    {
     "name": "stdout",
     "output_type": "stream",
     "text": [
      "True\n",
      "False\n",
      "True\n"
     ]
    }
   ],
   "source": [
    "# Tidak sama dengan / Not Equal (!=)\n",
    "print(c!=d)\n",
    "print(c!=e)\n",
    "print(rumah1!=rumah2)"
   ]
  },
  {
   "cell_type": "markdown",
   "id": "459b64de",
   "metadata": {},
   "source": [
    "# String Manipulation"
   ]
  },
  {
   "cell_type": "code",
   "execution_count": 36,
   "id": "d5780d32",
   "metadata": {},
   "outputs": [
    {
     "name": "stdout",
     "output_type": "stream",
     "text": [
      "barfoo\n",
      "foobarbaz\n"
     ]
    }
   ],
   "source": [
    "# Operator +\n",
    "s = 'foo'\n",
    "t = 'bar'\n",
    "u = 'baz'\n",
    "print(t+s)\n",
    "print(s+t+u)"
   ]
  },
  {
   "cell_type": "code",
   "execution_count": 37,
   "id": "80762524",
   "metadata": {},
   "outputs": [
    {
     "name": "stdout",
     "output_type": "stream",
     "text": [
      "foofoofoofoofoofoofoofoofoofoo\n"
     ]
    }
   ],
   "source": [
    "# Operator *\n",
    "print(s*10)"
   ]
  },
  {
   "cell_type": "code",
   "execution_count": 38,
   "id": "ed90aa5f",
   "metadata": {},
   "outputs": [
    {
     "name": "stdout",
     "output_type": "stream",
     "text": [
      "True\n",
      "False\n"
     ]
    }
   ],
   "source": [
    "# Operator in\n",
    "a = 'buah'\n",
    "print(a in 'Saya mau beli buah')\n",
    "print(a in 'Saya mau beli singkong')"
   ]
  },
  {
   "cell_type": "code",
   "execution_count": 39,
   "id": "44fa7629",
   "metadata": {},
   "outputs": [
    {
     "name": "stdout",
     "output_type": "stream",
     "text": [
      "BUAH\n"
     ]
    }
   ],
   "source": [
    "# UPPER\n",
    "a = 'buah'\n",
    "print (a.upper())"
   ]
  },
  {
   "cell_type": "code",
   "execution_count": 40,
   "id": "246f8e94",
   "metadata": {},
   "outputs": [
    {
     "name": "stdout",
     "output_type": "stream",
     "text": [
      "buah\n"
     ]
    }
   ],
   "source": [
    "# lower\n",
    "b = 'BUAH'\n",
    "print(b.lower())"
   ]
  },
  {
   "cell_type": "code",
   "execution_count": 41,
   "id": "9785d088",
   "metadata": {},
   "outputs": [
    {
     "name": "stdout",
     "output_type": "stream",
     "text": [
      "Buah\n"
     ]
    }
   ],
   "source": [
    "# Capitalize\n",
    "c = 'bUaH'\n",
    "print(c.capitalize())"
   ]
  },
  {
   "cell_type": "code",
   "execution_count": 42,
   "id": "3e2301ca",
   "metadata": {},
   "outputs": [
    {
     "name": "stdout",
     "output_type": "stream",
     "text": [
      "Saya mau makan\n",
      "Saya Mau Makan\n",
      "saYA MaU mAkAN\n"
     ]
    }
   ],
   "source": [
    "# Capitalize, Title, Swapcase\n",
    "d = 'SAya mAu MaKan'\n",
    "print(d.capitalize())\n",
    "print(d.title())\n",
    "print(d.swapcase())"
   ]
  },
  {
   "cell_type": "markdown",
   "id": "1d744e57",
   "metadata": {},
   "source": [
    "# Python List"
   ]
  },
  {
   "cell_type": "code",
   "execution_count": 44,
   "id": "4442ee15",
   "metadata": {},
   "outputs": [
    {
     "name": "stdout",
     "output_type": "stream",
     "text": [
      "['saya', 'mau', 'makan']\n",
      "False\n"
     ]
    }
   ],
   "source": [
    "a = ['saya', 'mau', 'makan']\n",
    "c = ['makan', 'mau', 'saya']\n",
    "print(a)\n",
    "print(a==c)"
   ]
  },
  {
   "cell_type": "code",
   "execution_count": 45,
   "id": "ed089bd0",
   "metadata": {},
   "outputs": [
    {
     "name": "stdout",
     "output_type": "stream",
     "text": [
      "['saya', 1, True, 3.7]\n"
     ]
    }
   ],
   "source": [
    "b = ['saya', 1, True, 3.7]\n",
    "print(b)"
   ]
  },
  {
   "cell_type": "markdown",
   "id": "174304cf",
   "metadata": {},
   "source": [
    "# Indexing and Slicing"
   ]
  },
  {
   "cell_type": "code",
   "execution_count": 46,
   "id": "15e59b2b",
   "metadata": {},
   "outputs": [
    {
     "name": "stdout",
     "output_type": "stream",
     "text": [
      "['foo', 'bar', 'baz', 'qux', 'quux', 'corge']\n"
     ]
    }
   ],
   "source": [
    "# List can be accessed by Index\n",
    "a = ['foo', 'bar', 'baz', 'qux', 'quux', 'corge']\n",
    "print(a)"
   ]
  },
  {
   "attachments": {
    "image.png": {
     "image/png": "[encoded data removed]"
    }
   },
   "cell_type": "markdown",
   "id": "5c0e40b8",
   "metadata": {},
   "source": [
    "![image.png](attachment:image.png)"
   ]
  },
  {
   "cell_type": "code",
   "execution_count": 47,
   "id": "01849197",
   "metadata": {},
   "outputs": [
    {
     "name": "stdout",
     "output_type": "stream",
     "text": [
      "foo\n",
      "qux\n",
      "foo\n"
     ]
    }
   ],
   "source": [
    "# Indexing\n",
    "print(a[0])\n",
    "print(a[3])\n",
    "print(a[-6])"
   ]
  },
  {
   "cell_type": "code",
   "execution_count": 48,
   "id": "9b40f034",
   "metadata": {},
   "outputs": [
    {
     "name": "stdout",
     "output_type": "stream",
     "text": [
      "True\n"
     ]
    }
   ],
   "source": [
    "print(a[-6]==a[0])"
   ]
  },
  {
   "cell_type": "code",
   "execution_count": 49,
   "id": "6b2b8050",
   "metadata": {},
   "outputs": [
    {
     "name": "stdout",
     "output_type": "stream",
     "text": [
      "i\n"
     ]
    }
   ],
   "source": [
    "x = 'budi'\n",
    "print(x[-1])"
   ]
  },
  {
   "cell_type": "markdown",
   "id": "2403cb65",
   "metadata": {},
   "source": [
    "# Prinsip Slicing\n",
    "[start:stop:step]"
   ]
  },
  {
   "cell_type": "code",
   "execution_count": 50,
   "id": "19622bf5",
   "metadata": {},
   "outputs": [
    {
     "name": "stdout",
     "output_type": "stream",
     "text": [
      "['foo', 'bar', 'baz', 'qux', 'quux', 'corge']\n",
      "['bar', 'baz', 'qux', 'quux', 'corge']\n"
     ]
    }
   ],
   "source": [
    "# Slicing\n",
    "a = ['foo', 'bar', 'baz', 'qux', 'quux', 'corge']\n",
    "print(a[0:6])\n",
    "print(a[1:])"
   ]
  },
  {
   "cell_type": "code",
   "execution_count": 51,
   "id": "582773c6",
   "metadata": {},
   "outputs": [
    {
     "name": "stdout",
     "output_type": "stream",
     "text": [
      "ud\n",
      "udi \n"
     ]
    }
   ],
   "source": [
    "x = 'budi '\n",
    "print(x[1:3])\n",
    "print(x[1:])"
   ]
  },
  {
   "cell_type": "code",
   "execution_count": 52,
   "id": "900fca98",
   "metadata": {},
   "outputs": [
    {
     "name": "stdout",
     "output_type": "stream",
     "text": [
      "aragenayruS rikgniT akaJ\n"
     ]
    }
   ],
   "source": [
    "y = 'Jaka Tingkir Suryanegara'\n",
    "print(y[::-1])"
   ]
  },
  {
   "cell_type": "markdown",
   "id": "c0a04bf5",
   "metadata": {},
   "source": [
    "## Quiz 2\n",
    "a = 'komitmen'\n",
    "Use indexing or slicing to get:\n",
    "1. i\n",
    "2. omi\n",
    "3. tmen\n",
    "4. kmte\n",
    "5. kmtn"
   ]
  },
  {
   "cell_type": "code",
   "execution_count": 59,
   "id": "09ef4464",
   "metadata": {},
   "outputs": [
    {
     "name": "stdout",
     "output_type": "stream",
     "text": [
      "i\n",
      "omi\n",
      "tmen\n",
      "kmte\n",
      "kmtn\n"
     ]
    }
   ],
   "source": [
    "a = 'komitmen'\n",
    "print(a[3])\n",
    "print(a[1:4])\n",
    "print(a[4:])\n",
    "print(a[::2])\n",
    "print(a[:5:2]+a[a.index('n')])"
   ]
  },
  {
   "cell_type": "markdown",
   "id": "35555aa1",
   "metadata": {},
   "source": [
    "# Modify List values based on its index"
   ]
  },
  {
   "cell_type": "code",
   "execution_count": 1,
   "id": "04cd360b",
   "metadata": {},
   "outputs": [],
   "source": [
    "a = ['foo', 'bar', 'baz', 'qux', 'quux', 'corge']\n",
    "a[a.index('qux')] = 20"
   ]
  },
  {
   "cell_type": "code",
   "execution_count": 2,
   "id": "2f848273",
   "metadata": {},
   "outputs": [
    {
     "name": "stdout",
     "output_type": "stream",
     "text": [
      "['foo', 'bar', 'baz', 20, 'corge']\n"
     ]
    }
   ],
   "source": [
    "# del command\n",
    "del a[a.index('quux')]\n",
    "print(a)"
   ]
  },
  {
   "cell_type": "code",
   "execution_count": 7,
   "id": "aa6745a3",
   "metadata": {},
   "outputs": [
    {
     "name": "stdout",
     "output_type": "stream",
     "text": [
      "['foo', 'bar', 'baz', 20, 22]\n"
     ]
    }
   ],
   "source": [
    "a[4] = 22\n",
    "print(a)"
   ]
  },
  {
   "cell_type": "code",
   "execution_count": 8,
   "id": "3ef2a359",
   "metadata": {},
   "outputs": [
    {
     "name": "stdout",
     "output_type": "stream",
     "text": [
      "[1, 2, 3, 'qux', 'quux', 'corge']\n"
     ]
    }
   ],
   "source": [
    "a = ['foo', 'bar', 'baz', 'qux', 'quux', 'corge']\n",
    "a[0:3] = [1,2,3]\n",
    "print(a)"
   ]
  },
  {
   "cell_type": "markdown",
   "id": "68d6d36b",
   "metadata": {},
   "source": [
    "# Tuple\n",
    "bersifat statis"
   ]
  },
  {
   "cell_type": "code",
   "execution_count": 9,
   "id": "526e338b",
   "metadata": {},
   "outputs": [
    {
     "name": "stdout",
     "output_type": "stream",
     "text": [
      "<class 'tuple'>\n"
     ]
    }
   ],
   "source": [
    "t = ('foo', 'bar', 'baz', 'qux', 'quux', 'corge')\n",
    "print(type(t))"
   ]
  },
  {
   "cell_type": "code",
   "execution_count": 10,
   "id": "c70b4e7d",
   "metadata": {},
   "outputs": [
    {
     "ename": "TypeError",
     "evalue": "'tuple' object does not support item assignment",
     "output_type": "error",
     "traceback": [
      "\u001b[1;31m---------------------------------------------------------------------------\u001b[0m",
      "\u001b[1;31mTypeError\u001b[0m                                 Traceback (most recent call last)",
      "\u001b[1;32m~\\AppData\\Local\\Temp\\ipykernel_10924\\1253691622.py\u001b[0m in \u001b[0;36m<module>\u001b[1;34m\u001b[0m\n\u001b[1;32m----> 1\u001b[1;33m \u001b[0mt\u001b[0m\u001b[1;33m[\u001b[0m\u001b[1;36m0\u001b[0m\u001b[1;33m]\u001b[0m \u001b[1;33m=\u001b[0m \u001b[1;36m1\u001b[0m\u001b[1;33m\u001b[0m\u001b[1;33m\u001b[0m\u001b[0m\n\u001b[0m",
      "\u001b[1;31mTypeError\u001b[0m: 'tuple' object does not support item assignment"
     ]
    }
   ],
   "source": [
    "t[0] = 1"
   ]
  },
  {
   "cell_type": "markdown",
   "id": "466beed9",
   "metadata": {},
   "source": [
    "# Dictionary"
   ]
  },
  {
   "cell_type": "code",
   "execution_count": 11,
   "id": "636b4a2e",
   "metadata": {},
   "outputs": [],
   "source": [
    "MLB_team = {\n",
    "    'Colorado' : 'Rockies',\n",
    "    'Boston' : 'Red Sox',\n",
    "    'Minnesota' : 'Twins',\n",
    "    'Milwaukee' : 'Brewers',\n",
    "    'Seattle' : 'Mariners'\n",
    "}"
   ]
  },
  {
   "cell_type": "code",
   "execution_count": 12,
   "id": "26325b22",
   "metadata": {},
   "outputs": [
    {
     "name": "stdout",
     "output_type": "stream",
     "text": [
      "Rockies\n",
      "Red Sox\n"
     ]
    }
   ],
   "source": [
    "print(MLB_team['Colorado'])\n",
    "print(MLB_team['Boston'])"
   ]
  },
  {
   "cell_type": "code",
   "execution_count": 13,
   "id": "949b37a1",
   "metadata": {},
   "outputs": [
    {
     "name": "stdout",
     "output_type": "stream",
     "text": [
      "{'Colorado': 'Rockies', 'Boston': 'Red Sox', 'Minnesota': 'Twins', 'Milwaukee': 'Brewers', 'Seattle': 'Mariners', 'Kansas City': 'Royals'}\n"
     ]
    }
   ],
   "source": [
    "# Assign Kota Baru\n",
    "MLB_team['Kansas City'] = 'Royals'\n",
    "print(MLB_team)"
   ]
  },
  {
   "cell_type": "code",
   "execution_count": 14,
   "id": "32c50567",
   "metadata": {},
   "outputs": [
    {
     "name": "stdout",
     "output_type": "stream",
     "text": [
      "{'Colorado': 'Rockies', 'Boston': 'Red Sox', 'Minnesota': 'Twins', 'Milwaukee': 'Brewers', 'Seattle': 'Seahawks', 'Kansas City': 'Royals'}\n"
     ]
    }
   ],
   "source": [
    "# Update Tim Kota\n",
    "MLB_team['Seattle'] = 'Seahawks'\n",
    "print(MLB_team)"
   ]
  },
  {
   "cell_type": "code",
   "execution_count": 15,
   "id": "bf101458",
   "metadata": {},
   "outputs": [
    {
     "name": "stdout",
     "output_type": "stream",
     "text": [
      "{'Boston': 'Red Sox', 'Minnesota': 'Twins', 'Milwaukee': 'Brewers', 'Seattle': 'Seahawks', 'Kansas City': 'Royals'}\n"
     ]
    }
   ],
   "source": [
    "# del command\n",
    "del MLB_team['Colorado']\n",
    "print(MLB_team)"
   ]
  },
  {
   "cell_type": "code",
   "execution_count": 16,
   "id": "2d7a7d2a",
   "metadata": {},
   "outputs": [
    {
     "name": "stdout",
     "output_type": "stream",
     "text": [
      "<class 'dict'>\n"
     ]
    }
   ],
   "source": [
    "orang = {}\n",
    "print(type(orang))"
   ]
  },
  {
   "cell_type": "code",
   "execution_count": 18,
   "id": "bcd4affa",
   "metadata": {},
   "outputs": [
    {
     "data": {
      "text/plain": [
       "{'Nama': 'Budi',\n",
       " 'Kota': 'Solo',\n",
       " 'Umur': 32,\n",
       " 'Anak': ['Sarah', 'Syifa', 'Nurul'],\n",
       " 'Kendaraan': {'mobil': 'Innova', 'motor': 'mio'}}"
      ]
     },
     "execution_count": 18,
     "metadata": {},
     "output_type": "execute_result"
    }
   ],
   "source": [
    "orang['Nama'] = 'Budi'\n",
    "orang['Kota'] = 'Solo'\n",
    "orang['Umur'] = 32\n",
    "orang['Anak'] = ['Sarah', 'Syifa', 'Nurul']\n",
    "orang['Kendaraan'] = {'mobil':'Innova', 'motor':'mio'}\n",
    "orang"
   ]
  },
  {
   "cell_type": "code",
   "execution_count": 19,
   "id": "e0d04563",
   "metadata": {},
   "outputs": [
    {
     "name": "stdout",
     "output_type": "stream",
     "text": [
      "mio\n"
     ]
    }
   ],
   "source": [
    "print(orang['Kendaraan']['motor'])"
   ]
  },
  {
   "cell_type": "code",
   "execution_count": 20,
   "id": "75e9eb09",
   "metadata": {},
   "outputs": [
    {
     "name": "stdout",
     "output_type": "stream",
     "text": [
      "['Sarah', 'Syifa']\n"
     ]
    }
   ],
   "source": [
    "print(orang['Anak'][0:2])"
   ]
  },
  {
   "cell_type": "markdown",
   "id": "f1a5a2f2",
   "metadata": {},
   "source": [
    "# Line Continuation"
   ]
  },
  {
   "cell_type": "code",
   "execution_count": 21,
   "id": "92ca589f",
   "metadata": {},
   "outputs": [
    {
     "name": "stdout",
     "output_type": "stream",
     "text": [
      "True\n",
      "False\n",
      "True\n",
      "True\n",
      "False\n",
      "False\n"
     ]
    }
   ],
   "source": [
    "print(True and True)\n",
    "print(True and False)\n",
    "print(True or True)\n",
    "print(True or False)\n",
    "print(False and False)\n",
    "print(False or False)"
   ]
  },
  {
   "cell_type": "markdown",
   "id": "ccfa7266",
   "metadata": {},
   "source": [
    "working age is 18-65"
   ]
  },
  {
   "cell_type": "code",
   "execution_count": 22,
   "id": "7cb60847",
   "metadata": {},
   "outputs": [
    {
     "name": "stdout",
     "output_type": "stream",
     "text": [
      "True\n",
      "False\n",
      "False\n"
     ]
    }
   ],
   "source": [
    "umur1 = 42\n",
    "umur2 = 16\n",
    "umur3 = 71\n",
    "print(umur1>=18 and umur1<=65)\n",
    "print(umur2>=18 and umur2<=65)\n",
    "print(umur3>=18 and umur3<=65)"
   ]
  },
  {
   "cell_type": "markdown",
   "id": "53979214",
   "metadata": {},
   "source": [
    "how to check if one of them is of working age"
   ]
  },
  {
   "cell_type": "code",
   "execution_count": 24,
   "id": "fc98273f",
   "metadata": {},
   "outputs": [
    {
     "name": "stdout",
     "output_type": "stream",
     "text": [
      "True\n"
     ]
    }
   ],
   "source": [
    "print((umur1>=18 and umur1<=65) or (umur2>=18 and umur2<=65) or (umur3>=18 and umur3<=65))"
   ]
  },
  {
   "cell_type": "markdown",
   "id": "bbc10246",
   "metadata": {},
   "source": [
    "# Materi Tambahan"
   ]
  },
  {
   "cell_type": "code",
   "execution_count": 25,
   "id": "dcc66860",
   "metadata": {},
   "outputs": [
    {
     "name": "stdout",
     "output_type": "stream",
     "text": [
      "['Toyota', 'Kijang', 'Isuzu']\n"
     ]
    }
   ],
   "source": [
    "mobil = ['Toyota', 'Kijang']\n",
    "mobil = mobil + ['Isuzu']\n",
    "print(mobil)"
   ]
  },
  {
   "cell_type": "code",
   "execution_count": 26,
   "id": "25978602",
   "metadata": {},
   "outputs": [
    {
     "name": "stdout",
     "output_type": "stream",
     "text": [
      "['Toyota', 'Kijang', 'Isuzu']\n"
     ]
    }
   ],
   "source": [
    "mobil = ['Toyota', 'Kijang']\n",
    "mobil.append('Isuzu')\n",
    "print(mobil)"
   ]
  },
  {
   "cell_type": "code",
   "execution_count": 27,
   "id": "a4a63cc9",
   "metadata": {},
   "outputs": [
    {
     "name": "stdout",
     "output_type": "stream",
     "text": [
      "['Toyota', 'Kijang', 'Isuzu']\n"
     ]
    }
   ],
   "source": [
    "kendaraan = mobil.copy()\n",
    "print(kendaraan)"
   ]
  },
  {
   "cell_type": "code",
   "execution_count": 28,
   "id": "b7b0b2fb",
   "metadata": {},
   "outputs": [
    {
     "name": "stdout",
     "output_type": "stream",
     "text": [
      "['Toyota', 'Kijang', 'Isuzu', 'Innova', 'Innova']\n",
      "['Toyota', 'Kijang', 'Isuzu']\n"
     ]
    }
   ],
   "source": [
    "kendaraan.append('Innova')\n",
    "kendaraan.append('Innova')\n",
    "print(kendaraan)\n",
    "print(mobil)"
   ]
  },
  {
   "cell_type": "code",
   "execution_count": 29,
   "id": "4934c933",
   "metadata": {},
   "outputs": [
    {
     "name": "stdout",
     "output_type": "stream",
     "text": [
      "['Toyota', 'Kijang', 'Isuzu', 'Innova', 'Innova']\n"
     ]
    }
   ],
   "source": [
    "print(kendaraan)"
   ]
  },
  {
   "cell_type": "code",
   "execution_count": 31,
   "id": "837a8e01",
   "metadata": {},
   "outputs": [
    {
     "name": "stdout",
     "output_type": "stream",
     "text": [
      "['Toyota', 'Kijang', 'Isuzu']\n"
     ]
    }
   ],
   "source": [
    "kendaraan.remove('Innova')\n",
    "print(kendaraan)"
   ]
  },
  {
   "cell_type": "code",
   "execution_count": 32,
   "id": "226c07d1",
   "metadata": {},
   "outputs": [
    {
     "name": "stdout",
     "output_type": "stream",
     "text": [
      "['pisang', 'apel']\n"
     ]
    }
   ],
   "source": [
    "buah = ['pisang', 'jeruk', 'apel']\n",
    "buah.pop(1)\n",
    "print(buah)"
   ]
  }
 ],
 "metadata": {
  "kernelspec": {
   "display_name": "Python 3 (ipykernel)",
   "language": "python",
   "name": "python3"
  },
  "language_info": {
   "codemirror_mode": {
    "name": "ipython",
    "version": 3
   },
   "file_extension": ".py",
   "mimetype": "text/x-python",
   "name": "python",
   "nbconvert_exporter": "python",
   "pygments_lexer": "ipython3",
   "version": "3.9.13"
  }
 },
 "nbformat": 4,
 "nbformat_minor": 5
}
