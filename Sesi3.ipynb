{
 "cells": [
  {
   "cell_type": "markdown",
   "id": "546e03a4",
   "metadata": {},
   "source": [
    "# Function, Module, Package"
   ]
  },
  {
   "cell_type": "code",
   "execution_count": 1,
   "id": "4e96a042",
   "metadata": {},
   "outputs": [
    {
     "data": {
      "text/plain": [
       "3"
      ]
     },
     "execution_count": 1,
     "metadata": {},
     "output_type": "execute_result"
    }
   ],
   "source": [
    "1 * 3"
   ]
  },
  {
   "cell_type": "code",
   "execution_count": 8,
   "id": "dc07248d",
   "metadata": {},
   "outputs": [
    {
     "name": "stdout",
     "output_type": "stream",
     "text": [
      "3\n"
     ]
    }
   ],
   "source": [
    "def kali(a,b):\n",
    "    return a*b\n",
    "print(kali(1,3))"
   ]
  },
  {
   "cell_type": "code",
   "execution_count": 9,
   "id": "a85caa96",
   "metadata": {},
   "outputs": [
    {
     "name": "stdout",
     "output_type": "stream",
     "text": [
      "144\n"
     ]
    }
   ],
   "source": [
    "x = kali(2,3)\n",
    "y = kali(4,6)\n",
    "z = kali(x,y)\n",
    "print(z)"
   ]
  },
  {
   "cell_type": "code",
   "execution_count": 6,
   "id": "4aef1af0",
   "metadata": {},
   "outputs": [],
   "source": [
    "def str_joiner(a,b):\n",
    "    a = a.upper()\n",
    "    b = b.upper()\n",
    "    return a + b"
   ]
  },
  {
   "cell_type": "code",
   "execution_count": 8,
   "id": "a9437ce3",
   "metadata": {},
   "outputs": [
    {
     "data": {
      "text/plain": [
       "'AYAMBURUNG'"
      ]
     },
     "execution_count": 8,
     "metadata": {},
     "output_type": "execute_result"
    }
   ],
   "source": [
    "str_joiner('ayam','burung')"
   ]
  },
  {
   "cell_type": "markdown",
   "id": "3ddf9ce0-558a-4755-a82b-31adea8e471d",
   "metadata": {},
   "source": [
    "### Quiz 1\n",
    "Tolong buat function yang berisi 3 parameter string yang akan dijoin menggunakan spasi dan diconvert menjadi reverse.\n",
    "contoh=\n",
    "* input: str_joiner('saya', 'mau', 'makan')\n",
    "* output: nakam uam ayas"
   ]
  },
  {
   "cell_type": "code",
   "execution_count": 35,
   "id": "bc23fadb",
   "metadata": {},
   "outputs": [
    {
     "data": {
      "text/plain": [
       "'nakam uam ayas'"
      ]
     },
     "execution_count": 35,
     "metadata": {},
     "output_type": "execute_result"
    }
   ],
   "source": [
    "def str_joiner(a,b,c):\n",
    "    a = a.lower()\n",
    "    b = b.lower()\n",
    "    c = c.lower()\n",
    "    return (a + ' ' + b + ' ' + c) [::-1]\n",
    "    \n",
    "str_joiner('Saya', 'Mau', 'Makan')"
   ]
  },
  {
   "cell_type": "markdown",
   "id": "d61a5214",
   "metadata": {},
   "source": [
    "* Variabel Global\n",
    "* Variabel Local"
   ]
  },
  {
   "cell_type": "code",
   "execution_count": 9,
   "id": "dcad9324",
   "metadata": {},
   "outputs": [
    {
     "name": "stdout",
     "output_type": "stream",
     "text": [
      "20\n",
      "3\n"
     ]
    }
   ],
   "source": [
    "total = 20 # Variabel Global\n",
    "\n",
    "def function_a(a,b):\n",
    "    total = a + b # Variabel Local\n",
    "    return total\n",
    "\n",
    "print(total)\n",
    "print(function_a(1,2))"
   ]
  },
  {
   "cell_type": "code",
   "execution_count": 10,
   "id": "01170d0c-7838-40e5-8c0c-5f14441b7bfe",
   "metadata": {},
   "outputs": [
    {
     "data": {
      "text/plain": [
       "20"
      ]
     },
     "execution_count": 10,
     "metadata": {},
     "output_type": "execute_result"
    }
   ],
   "source": [
    "total"
   ]
  },
  {
   "cell_type": "markdown",
   "id": "e9ce413e-0fa9-474e-a530-15c89db5db56",
   "metadata": {},
   "source": [
    "### Quiz 2\n",
    "Output Function:\n",
    "\n",
    "* n angka ganjil adalah = 7\n",
    "* n angka genap adalah =6\n",
    "* Sum angka ganjil adalah =\n",
    "* sum angka genap adalah = 100"
   ]
  },
  {
   "cell_type": "code",
   "execution_count": 21,
   "id": "a2879499",
   "metadata": {},
   "outputs": [
    {
     "name": "stdout",
     "output_type": "stream",
     "text": [
      "7\n",
      "5\n",
      "267\n",
      "262\n"
     ]
    }
   ],
   "source": [
    "mylist = [31,23,31,40,50,67,74,88,91,10,11,13]\n",
    "\n",
    "def list_summary(lst):\n",
    "    nGenap = 0\n",
    "    nGanjil = 0\n",
    "    sumGenap = 0\n",
    "    sumGanjil = 0\n",
    "    for i in lst:\n",
    "        if i % 2 == 0:\n",
    "            nGenap += 1\n",
    "            sumGenap += i\n",
    "        else:\n",
    "            nGanjil += 1\n",
    "            sumGanjil += i\n",
    "    print(nGanjil)\n",
    "    print(nGenap)\n",
    "    print(sumGanjil)    \n",
    "    print(sumGenap)\n",
    "    \n",
    "list_summary(mylist)"
   ]
  },
  {
   "cell_type": "code",
   "execution_count": 22,
   "id": "aeeeb93c",
   "metadata": {},
   "outputs": [
    {
     "name": "stdout",
     "output_type": "stream",
     "text": [
      "Name:  Fafa\n",
      "Age:  17\n"
     ]
    }
   ],
   "source": [
    "# Default Argument\n",
    "def printinfo(name,age=26):\n",
    "    print('Name: ', name)\n",
    "    print('Age: ', age)\n",
    "printinfo('Fafa', 17)"
   ]
  },
  {
   "cell_type": "code",
   "execution_count": 23,
   "id": "124639df",
   "metadata": {},
   "outputs": [
    {
     "name": "stdout",
     "output_type": "stream",
     "text": [
      "Name:  Zizi\n",
      "Age:  33\n"
     ]
    }
   ],
   "source": [
    "printinfo(age=33, name='Zizi')"
   ]
  },
  {
   "cell_type": "code",
   "execution_count": 24,
   "id": "1edc596e-028b-44bf-924d-09b7fec0fb82",
   "metadata": {},
   "outputs": [
    {
     "name": "stdout",
     "output_type": "stream",
     "text": [
      "Name:  33\n",
      "Age:  Zizi\n"
     ]
    }
   ],
   "source": [
    "printinfo(33, 'Zizi')"
   ]
  },
  {
   "cell_type": "code",
   "execution_count": 29,
   "id": "02eee2f2",
   "metadata": {},
   "outputs": [
    {
     "name": "stdout",
     "output_type": "stream",
     "text": [
      "Output is : \n",
      "8\n",
      "9\n",
      "30\n",
      "20\n",
      "Nama\n"
     ]
    }
   ],
   "source": [
    "# variable length arguments\n",
    "def printinfo(x, *vartuple):\n",
    "    print('Output is : ')\n",
    "    print(x)\n",
    "    for i in vartuple:\n",
    "        print(i)\n",
    "printinfo(8, 9, 30, 20, 'Nama')"
   ]
  },
  {
   "cell_type": "code",
   "execution_count": 31,
   "id": "4fea74ab-3934-43ed-bdb2-c7a8553fdfc7",
   "metadata": {},
   "outputs": [
    {
     "name": "stdout",
     "output_type": "stream",
     "text": [
      "Output is : \n",
      "8\n",
      "(9, 30, 20, 'Nama', 90, 100, 11)\n",
      "<class 'tuple'>\n"
     ]
    }
   ],
   "source": [
    "def printinfo(x, *vartuple):\n",
    "    print('Output is : ')\n",
    "    print(x)\n",
    "    print(vartuple)\n",
    "    print(type(vartuple))\n",
    "printinfo(8, 9, 30, 20, 'Nama', 90, 100, 11)"
   ]
  },
  {
   "cell_type": "markdown",
   "id": "3fead596",
   "metadata": {},
   "source": [
    "## Lambda"
   ]
  },
  {
   "attachments": {
    "06c73811-2e0c-41ff-bacb-a47790498e4f.png": {
     "image/png": "[encoded data removed]"
    }
   },
   "cell_type": "markdown",
   "id": "17209a5b-523c-4d47-9010-0a4f0f8b5b53",
   "metadata": {},
   "source": [
    "![image.png](attachment:06c73811-2e0c-41ff-bacb-a47790498e4f.png)"
   ]
  },
  {
   "cell_type": "code",
   "execution_count": 50,
   "id": "73adf1ff",
   "metadata": {},
   "outputs": [
    {
     "name": "stdout",
     "output_type": "stream",
     "text": [
      "3\n"
     ]
    }
   ],
   "source": [
    "def sum (x,y):\n",
    "    return x + y\n",
    "print(sum(1,2))"
   ]
  },
  {
   "cell_type": "code",
   "execution_count": 53,
   "id": "768205b5",
   "metadata": {},
   "outputs": [
    {
     "name": "stdout",
     "output_type": "stream",
     "text": [
      "8\n",
      "15\n"
     ]
    }
   ],
   "source": [
    "sum = lambda x,y:x+y\n",
    "print(sum(3,5))\n",
    "\n",
    "kali = lambda x,y:x*y\n",
    "print(kali(3,5))"
   ]
  },
  {
   "cell_type": "markdown",
   "id": "debb9096",
   "metadata": {},
   "source": [
    "# Modules"
   ]
  },
  {
   "cell_type": "code",
   "execution_count": 54,
   "id": "a0e2cf52",
   "metadata": {},
   "outputs": [],
   "source": [
    "import numpy as np"
   ]
  },
  {
   "cell_type": "code",
   "execution_count": 55,
   "id": "01443c27",
   "metadata": {},
   "outputs": [
    {
     "data": {
      "text/plain": [
       "3.0"
      ]
     },
     "execution_count": 55,
     "metadata": {},
     "output_type": "execute_result"
    }
   ],
   "source": [
    "np.sqrt(9)"
   ]
  },
  {
   "cell_type": "code",
   "execution_count": 36,
   "id": "62c7f5b7-e901-4910-ad68-53a5eefd8cc2",
   "metadata": {},
   "outputs": [],
   "source": [
    "import mod"
   ]
  },
  {
   "cell_type": "code",
   "execution_count": 35,
   "id": "fad8255a",
   "metadata": {},
   "outputs": [
    {
     "data": {
      "text/plain": [
       "['C:\\\\Users\\\\LENOVO\\\\Hacktiv8',\n",
       " 'C:\\\\Users\\\\LENOVO\\\\anaconda3\\\\python39.zip',\n",
       " 'C:\\\\Users\\\\LENOVO\\\\anaconda3\\\\DLLs',\n",
       " 'C:\\\\Users\\\\LENOVO\\\\anaconda3\\\\lib',\n",
       " 'C:\\\\Users\\\\LENOVO\\\\anaconda3',\n",
       " '',\n",
       " 'C:\\\\Users\\\\LENOVO\\\\anaconda3\\\\lib\\\\site-packages',\n",
       " 'C:\\\\Users\\\\LENOVO\\\\anaconda3\\\\lib\\\\site-packages\\\\win32',\n",
       " 'C:\\\\Users\\\\LENOVO\\\\anaconda3\\\\lib\\\\site-packages\\\\win32\\\\lib',\n",
       " 'C:\\\\Users\\\\LENOVO\\\\anaconda3\\\\lib\\\\site-packages\\\\Pythonwin',\n",
       " 'C:\\\\Users\\\\LENOVO\\\\anaconda3\\\\lib\\\\site-packages\\\\IPython\\\\extensions',\n",
       " 'C:\\\\Users\\\\LENOVO\\\\.ipython']"
      ]
     },
     "execution_count": 35,
     "metadata": {},
     "output_type": "execute_result"
    }
   ],
   "source": [
    "import sys\n",
    "sys.path"
   ]
  },
  {
   "cell_type": "code",
   "execution_count": 59,
   "id": "d2afd63d-ba6a-4d8a-908a-344cb35e2602",
   "metadata": {},
   "outputs": [],
   "source": [
    "sys.path.append('C:\\\\Users\\\\Lenovo\\\\Hacktiv8')"
   ]
  },
  {
   "cell_type": "code",
   "execution_count": 39,
   "id": "ff547cf1-04a5-4995-8b39-9835452b3b0e",
   "metadata": {},
   "outputs": [],
   "source": [
    "import mod"
   ]
  },
  {
   "cell_type": "code",
   "execution_count": 40,
   "id": "147c8cf6-0554-48b9-879f-521489e37efa",
   "metadata": {},
   "outputs": [
    {
     "data": {
      "text/plain": [
       "'C:\\\\Users\\\\LENOVO\\\\Hacktiv8\\\\mod.py'"
      ]
     },
     "execution_count": 40,
     "metadata": {},
     "output_type": "execute_result"
    }
   ],
   "source": [
    "mod.__file__"
   ]
  },
  {
   "cell_type": "code",
   "execution_count": 41,
   "id": "034f3347-a634-469f-90d9-ef2ff2c8c807",
   "metadata": {},
   "outputs": [
    {
     "data": {
      "text/plain": [
       "[100, 20, 300]"
      ]
     },
     "execution_count": 41,
     "metadata": {},
     "output_type": "execute_result"
    }
   ],
   "source": [
    "mod.a"
   ]
  },
  {
   "cell_type": "code",
   "execution_count": 42,
   "id": "6d490932-bc1e-4aec-b377-04101412ae14",
   "metadata": {},
   "outputs": [
    {
     "name": "stdout",
     "output_type": "stream",
     "text": [
      "arg = Hello World!\n"
     ]
    }
   ],
   "source": [
    "mod.foo('Hello World!')"
   ]
  },
  {
   "cell_type": "code",
   "execution_count": 43,
   "id": "d6aeefec-6a57-490d-90f6-cb194a3d136d",
   "metadata": {},
   "outputs": [
    {
     "name": "stdout",
     "output_type": "stream",
     "text": [
      "<mod.Foo object at 0x00000252A3DCF940>\n"
     ]
    }
   ],
   "source": [
    "x = mod.Foo()\n",
    "print(x)"
   ]
  },
  {
   "cell_type": "code",
   "execution_count": 44,
   "id": "bf8215b5-ba81-4606-9057-ee86f48b3f6a",
   "metadata": {},
   "outputs": [
    {
     "name": "stdout",
     "output_type": "stream",
     "text": [
      "arg = Welcome\n"
     ]
    }
   ],
   "source": [
    "from mod import s, foo\n",
    "foo('Welcome')"
   ]
  },
  {
   "cell_type": "markdown",
   "id": "5d1aa7a4-b535-4fd8-841c-09de80248419",
   "metadata": {},
   "source": [
    "### Try-Except"
   ]
  },
  {
   "cell_type": "code",
   "execution_count": 47,
   "id": "7ab2a3e6-0272-45d2-985c-f9bb9bae87df",
   "metadata": {},
   "outputs": [
    {
     "name": "stdout",
     "output_type": "stream",
     "text": [
      "Object Not Found in Module\n"
     ]
    }
   ],
   "source": [
    "try:\n",
    "    from mod import haha\n",
    "except:\n",
    "    print('Object Not Found in Module')"
   ]
  },
  {
   "cell_type": "markdown",
   "id": "e8d95815-711a-44f1-bb00-09c1d3c17e82",
   "metadata": {},
   "source": [
    "## Package"
   ]
  },
  {
   "cell_type": "code",
   "execution_count": 62,
   "id": "d8b4aca9-4788-429a-a2a8-ff6a9a74cc16",
   "metadata": {},
   "outputs": [],
   "source": [
    "import pkg.mod, pkg.fact"
   ]
  },
  {
   "cell_type": "code",
   "execution_count": 63,
   "id": "bf18423c-b246-45f4-b4f8-b00a32267677",
   "metadata": {},
   "outputs": [
    {
     "name": "stdout",
     "output_type": "stream",
     "text": [
      "arg = Saya\n"
     ]
    }
   ],
   "source": [
    "pkg.mod.foo('Saya')"
   ]
  },
  {
   "cell_type": "code",
   "execution_count": 64,
   "id": "d0ae8b42-2e04-435c-8a89-41a60a34ccd9",
   "metadata": {},
   "outputs": [
    {
     "data": {
      "text/plain": [
       "720"
      ]
     },
     "execution_count": 64,
     "metadata": {},
     "output_type": "execute_result"
    }
   ],
   "source": [
    "pkg.fact.fact(6)"
   ]
  },
  {
   "cell_type": "code",
   "execution_count": 65,
   "id": "d19d318c-3fc3-4372-83b7-68406051d1b2",
   "metadata": {},
   "outputs": [],
   "source": [
    "from pkg import mod,fact"
   ]
  },
  {
   "cell_type": "code",
   "execution_count": 66,
   "id": "63a7e3be-de5e-4c00-871d-4c342a550486",
   "metadata": {},
   "outputs": [
    {
     "name": "stdout",
     "output_type": "stream",
     "text": [
      "arg = Saya\n"
     ]
    }
   ],
   "source": [
    "mod.foo('Saya')"
   ]
  },
  {
   "cell_type": "code",
   "execution_count": 67,
   "id": "e0d7e6bf-1e4e-4d79-af40-9561c6934fff",
   "metadata": {},
   "outputs": [
    {
     "data": {
      "text/plain": [
       "720"
      ]
     },
     "execution_count": 67,
     "metadata": {},
     "output_type": "execute_result"
    }
   ],
   "source": [
    "from fact import fact\n",
    "fact(6)"
   ]
  },
  {
   "cell_type": "code",
   "execution_count": 68,
   "id": "0cd1bd32-e498-4e86-a50a-a2ba094b4dea",
   "metadata": {},
   "outputs": [
    {
     "name": "stdout",
     "output_type": "stream",
     "text": [
      "Requirement already satisfied: pandas in c:\\users\\lenovo\\anaconda3\\lib\\site-packages (1.4.4)\n",
      "Requirement already satisfied: numpy in c:\\users\\lenovo\\anaconda3\\lib\\site-packages (1.21.5)\n",
      "Requirement already satisfied: seaborn in c:\\users\\lenovo\\anaconda3\\lib\\site-packages (0.11.2)\n",
      "Requirement already satisfied: python-dateutil>=2.8.1 in c:\\users\\lenovo\\anaconda3\\lib\\site-packages (from pandas) (2.8.2)\n",
      "Requirement already satisfied: pytz>=2020.1 in c:\\users\\lenovo\\anaconda3\\lib\\site-packages (from pandas) (2022.1)\n",
      "Requirement already satisfied: matplotlib>=2.2 in c:\\users\\lenovo\\anaconda3\\lib\\site-packages (from seaborn) (3.5.2)\n",
      "Requirement already satisfied: scipy>=1.0 in c:\\users\\lenovo\\anaconda3\\lib\\site-packages (from seaborn) (1.9.1)\n",
      "Requirement already satisfied: cycler>=0.10 in c:\\users\\lenovo\\anaconda3\\lib\\site-packages (from matplotlib>=2.2->seaborn) (0.11.0)\n",
      "Requirement already satisfied: packaging>=20.0 in c:\\users\\lenovo\\anaconda3\\lib\\site-packages (from matplotlib>=2.2->seaborn) (21.3)\n",
      "Requirement already satisfied: kiwisolver>=1.0.1 in c:\\users\\lenovo\\anaconda3\\lib\\site-packages (from matplotlib>=2.2->seaborn) (1.4.2)\n",
      "Requirement already satisfied: pyparsing>=2.2.1 in c:\\users\\lenovo\\anaconda3\\lib\\site-packages (from matplotlib>=2.2->seaborn) (3.0.9)\n",
      "Requirement already satisfied: fonttools>=4.22.0 in c:\\users\\lenovo\\anaconda3\\lib\\site-packages (from matplotlib>=2.2->seaborn) (4.25.0)\n",
      "Requirement already satisfied: pillow>=6.2.0 in c:\\users\\lenovo\\anaconda3\\lib\\site-packages (from matplotlib>=2.2->seaborn) (9.2.0)\n",
      "Requirement already satisfied: six>=1.5 in c:\\users\\lenovo\\anaconda3\\lib\\site-packages (from python-dateutil>=2.8.1->pandas) (1.16.0)\n"
     ]
    }
   ],
   "source": [
    "!pip install pandas numpy seaborn"
   ]
  },
  {
   "cell_type": "code",
   "execution_count": 69,
   "id": "bc2371b0-a591-4397-9fae-e46adbc748e1",
   "metadata": {},
   "outputs": [],
   "source": [
    "from mod import *"
   ]
  },
  {
   "cell_type": "code",
   "execution_count": 70,
   "id": "b7bae08b-dbe6-4024-9b25-776e74acf4d2",
   "metadata": {},
   "outputs": [
    {
     "name": "stdout",
     "output_type": "stream",
     "text": [
      "<mod.Foo object at 0x00000252A3DF3CA0>\n"
     ]
    }
   ],
   "source": [
    "x = Foo()\n",
    "print(x)"
   ]
  },
  {
   "cell_type": "code",
   "execution_count": 72,
   "id": "1e1aac2d-4410-4423-8b44-28da57018a3a",
   "metadata": {},
   "outputs": [
    {
     "data": {
      "text/plain": [
       "['Foo',\n",
       " 'In',\n",
       " 'Out',\n",
       " '_',\n",
       " '_10',\n",
       " '_27',\n",
       " '_35',\n",
       " '_40',\n",
       " '_41',\n",
       " '_51',\n",
       " '_64',\n",
       " '_67',\n",
       " '_7',\n",
       " '_8',\n",
       " '__',\n",
       " '___',\n",
       " '__builtin__',\n",
       " '__builtins__',\n",
       " '__doc__',\n",
       " '__loader__',\n",
       " '__name__',\n",
       " '__package__',\n",
       " '__spec__',\n",
       " '_dh',\n",
       " '_exit_code',\n",
       " '_i',\n",
       " '_i1',\n",
       " '_i10',\n",
       " '_i11',\n",
       " '_i12',\n",
       " '_i13',\n",
       " '_i14',\n",
       " '_i15',\n",
       " '_i16',\n",
       " '_i17',\n",
       " '_i18',\n",
       " '_i19',\n",
       " '_i2',\n",
       " '_i20',\n",
       " '_i21',\n",
       " '_i22',\n",
       " '_i23',\n",
       " '_i24',\n",
       " '_i25',\n",
       " '_i26',\n",
       " '_i27',\n",
       " '_i28',\n",
       " '_i29',\n",
       " '_i3',\n",
       " '_i30',\n",
       " '_i31',\n",
       " '_i32',\n",
       " '_i33',\n",
       " '_i34',\n",
       " '_i35',\n",
       " '_i36',\n",
       " '_i37',\n",
       " '_i38',\n",
       " '_i39',\n",
       " '_i4',\n",
       " '_i40',\n",
       " '_i41',\n",
       " '_i42',\n",
       " '_i43',\n",
       " '_i44',\n",
       " '_i45',\n",
       " '_i46',\n",
       " '_i47',\n",
       " '_i48',\n",
       " '_i49',\n",
       " '_i5',\n",
       " '_i50',\n",
       " '_i51',\n",
       " '_i52',\n",
       " '_i53',\n",
       " '_i54',\n",
       " '_i55',\n",
       " '_i56',\n",
       " '_i57',\n",
       " '_i58',\n",
       " '_i59',\n",
       " '_i6',\n",
       " '_i60',\n",
       " '_i61',\n",
       " '_i62',\n",
       " '_i63',\n",
       " '_i64',\n",
       " '_i65',\n",
       " '_i66',\n",
       " '_i67',\n",
       " '_i68',\n",
       " '_i69',\n",
       " '_i7',\n",
       " '_i70',\n",
       " '_i71',\n",
       " '_i72',\n",
       " '_i8',\n",
       " '_i9',\n",
       " '_ih',\n",
       " '_ii',\n",
       " '_iii',\n",
       " '_oh',\n",
       " 'a',\n",
       " 'calculator',\n",
       " 'exit',\n",
       " 'fact',\n",
       " 'foo',\n",
       " 'function_a',\n",
       " 'function_b',\n",
       " 'get_ipython',\n",
       " 'importlib',\n",
       " 'list_summary',\n",
       " 'mod',\n",
       " 'mylist',\n",
       " 'np',\n",
       " 'num1',\n",
       " 'num2',\n",
       " 'operator',\n",
       " 'pkg',\n",
       " 'printinfo',\n",
       " 'quit',\n",
       " 'result',\n",
       " 's',\n",
       " 'str_joiner',\n",
       " 'sys',\n",
       " 'total',\n",
       " 'x']"
      ]
     },
     "execution_count": 72,
     "metadata": {},
     "output_type": "execute_result"
    }
   ],
   "source": [
    "dir()"
   ]
  },
  {
   "cell_type": "markdown",
   "id": "a3325578-004b-41ef-a630-fcc0eb8e29f0",
   "metadata": {},
   "source": [
    "As sebagai alias"
   ]
  },
  {
   "cell_type": "code",
   "execution_count": 73,
   "id": "cfd07b62-51d6-499e-86ef-618e780291d6",
   "metadata": {},
   "outputs": [],
   "source": [
    "import numpy as np"
   ]
  },
  {
   "cell_type": "code",
   "execution_count": 76,
   "id": "1ea0e3aa-52d2-4661-8a40-67f642000990",
   "metadata": {},
   "outputs": [],
   "source": [
    "import matplotlib.pyplot as plt"
   ]
  },
  {
   "cell_type": "code",
   "execution_count": 77,
   "id": "98cbaeb7-a78b-43f0-b618-76260a9958e2",
   "metadata": {},
   "outputs": [
    {
     "data": {
      "text/plain": [
       "<module 'numpy' from 'C:\\\\Users\\\\LENOVO\\\\anaconda3\\\\lib\\\\site-packages\\\\numpy\\\\__init__.py'>"
      ]
     },
     "execution_count": 77,
     "metadata": {},
     "output_type": "execute_result"
    }
   ],
   "source": [
    "np"
   ]
  },
  {
   "cell_type": "code",
   "execution_count": 78,
   "id": "fe212a4f-0557-4b05-8400-bc05cc15a489",
   "metadata": {},
   "outputs": [
    {
     "data": {
      "text/plain": [
       "'C:\\\\Users\\\\LENOVO\\\\anaconda3\\\\lib\\\\site-packages\\\\numpy\\\\__init__.py'"
      ]
     },
     "execution_count": 78,
     "metadata": {},
     "output_type": "execute_result"
    }
   ],
   "source": [
    "np.__file__"
   ]
  },
  {
   "cell_type": "code",
   "execution_count": 79,
   "id": "272c3fac-eceb-4849-8a63-23f0adedae42",
   "metadata": {},
   "outputs": [
    {
     "data": {
      "text/plain": [
       "['Foo',\n",
       " 'In',\n",
       " 'Out',\n",
       " '_',\n",
       " '_10',\n",
       " '_27',\n",
       " '_35',\n",
       " '_40',\n",
       " '_41',\n",
       " '_51',\n",
       " '_64',\n",
       " '_67',\n",
       " '_7',\n",
       " '_72',\n",
       " '_77',\n",
       " '_78',\n",
       " '_8',\n",
       " '__',\n",
       " '___',\n",
       " '__builtin__',\n",
       " '__builtins__',\n",
       " '__doc__',\n",
       " '__loader__',\n",
       " '__name__',\n",
       " '__package__',\n",
       " '__spec__',\n",
       " '_dh',\n",
       " '_exit_code',\n",
       " '_i',\n",
       " '_i1',\n",
       " '_i10',\n",
       " '_i11',\n",
       " '_i12',\n",
       " '_i13',\n",
       " '_i14',\n",
       " '_i15',\n",
       " '_i16',\n",
       " '_i17',\n",
       " '_i18',\n",
       " '_i19',\n",
       " '_i2',\n",
       " '_i20',\n",
       " '_i21',\n",
       " '_i22',\n",
       " '_i23',\n",
       " '_i24',\n",
       " '_i25',\n",
       " '_i26',\n",
       " '_i27',\n",
       " '_i28',\n",
       " '_i29',\n",
       " '_i3',\n",
       " '_i30',\n",
       " '_i31',\n",
       " '_i32',\n",
       " '_i33',\n",
       " '_i34',\n",
       " '_i35',\n",
       " '_i36',\n",
       " '_i37',\n",
       " '_i38',\n",
       " '_i39',\n",
       " '_i4',\n",
       " '_i40',\n",
       " '_i41',\n",
       " '_i42',\n",
       " '_i43',\n",
       " '_i44',\n",
       " '_i45',\n",
       " '_i46',\n",
       " '_i47',\n",
       " '_i48',\n",
       " '_i49',\n",
       " '_i5',\n",
       " '_i50',\n",
       " '_i51',\n",
       " '_i52',\n",
       " '_i53',\n",
       " '_i54',\n",
       " '_i55',\n",
       " '_i56',\n",
       " '_i57',\n",
       " '_i58',\n",
       " '_i59',\n",
       " '_i6',\n",
       " '_i60',\n",
       " '_i61',\n",
       " '_i62',\n",
       " '_i63',\n",
       " '_i64',\n",
       " '_i65',\n",
       " '_i66',\n",
       " '_i67',\n",
       " '_i68',\n",
       " '_i69',\n",
       " '_i7',\n",
       " '_i70',\n",
       " '_i71',\n",
       " '_i72',\n",
       " '_i73',\n",
       " '_i74',\n",
       " '_i75',\n",
       " '_i76',\n",
       " '_i77',\n",
       " '_i78',\n",
       " '_i79',\n",
       " '_i8',\n",
       " '_i9',\n",
       " '_ih',\n",
       " '_ii',\n",
       " '_iii',\n",
       " '_oh',\n",
       " 'a',\n",
       " 'calculator',\n",
       " 'exit',\n",
       " 'fact',\n",
       " 'foo',\n",
       " 'function_a',\n",
       " 'function_b',\n",
       " 'get_ipython',\n",
       " 'importlib',\n",
       " 'list_summary',\n",
       " 'mod',\n",
       " 'mylist',\n",
       " 'np',\n",
       " 'num1',\n",
       " 'num2',\n",
       " 'operator',\n",
       " 'pkg',\n",
       " 'plt',\n",
       " 'printinfo',\n",
       " 'quit',\n",
       " 'result',\n",
       " 's',\n",
       " 'str_joiner',\n",
       " 'sys',\n",
       " 'total',\n",
       " 'x']"
      ]
     },
     "execution_count": 79,
     "metadata": {},
     "output_type": "execute_result"
    }
   ],
   "source": [
    "dir()"
   ]
  }
 ],
 "metadata": {
  "kernelspec": {
   "display_name": "Python 3 (ipykernel)",
   "language": "python",
   "name": "python3"
  },
  "language_info": {
   "codemirror_mode": {
    "name": "ipython",
    "version": 3
   },
   "file_extension": ".py",
   "mimetype": "text/x-python",
   "name": "python",
   "nbconvert_exporter": "python",
   "pygments_lexer": "ipython3",
   "version": "3.9.13"
  }
 },
 "nbformat": 4,
 "nbformat_minor": 5
}
